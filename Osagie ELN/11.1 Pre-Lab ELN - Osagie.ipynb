{
 "cells": [
  {
   "cell_type": "markdown",
   "id": "4df3c901",
   "metadata": {},
   "source": [
    "# Pre-Lab ELN"
   ]
  },
  {
   "cell_type": "markdown",
   "id": "f68d7d94",
   "metadata": {},
   "source": [
    "### Name: Osagie Aimiuwu\n",
    "\n",
    "\n",
    "### Date: November 1, 2021\n",
    "\n",
    "\n",
    "### PID: 730393691\n",
    "\n",
    "\n",
    "### Jupyter Notebook Number: 2"
   ]
  },
  {
   "cell_type": "markdown",
   "id": "63746866",
   "metadata": {},
   "source": [
    "## Purpose/Objective:\n",
    "1. Correct an error in my original loud/quiet scenes list\n",
    "2. Explore available data for experiments with natural scenes"
   ]
  },
  {
   "cell_type": "markdown",
   "id": "c72c9c35",
   "metadata": {},
   "source": [
    "### Installing AllenSDK into your local environment. "
   ]
  },
  {
   "cell_type": "code",
   "execution_count": 1,
   "id": "6d70974b",
   "metadata": {},
   "outputs": [
    {
     "name": "stdout",
     "output_type": "stream",
     "text": [
      "Requirement already satisfied: allensdk in c:\\users\\osagiek\\appdata\\roaming\\python\\python38\\site-packages (2.13.1)\n",
      "Requirement already satisfied: glymur==0.8.19 in c:\\users\\osagiek\\appdata\\roaming\\python\\python38\\site-packages (from allensdk) (0.8.19)\n",
      "Requirement already satisfied: xarray<0.16.0 in c:\\users\\osagiek\\appdata\\roaming\\python\\python38\\site-packages (from allensdk) (0.15.1)\n",
      "Requirement already satisfied: pynwb<2.0.0,>=1.3.2 in c:\\users\\osagiek\\appdata\\roaming\\python\\python38\\site-packages (from allensdk) (1.4.0)\n",
      "Requirement already satisfied: scikit-build<1.0.0 in c:\\users\\osagiek\\appdata\\roaming\\python\\python38\\site-packages (from allensdk) (0.12.0)\n",
      "Requirement already satisfied: semver in c:\\users\\osagiek\\appdata\\roaming\\python\\python38\\site-packages (from allensdk) (2.13.0)\n",
      "Requirement already satisfied: boto3==1.17.21 in c:\\users\\osagiek\\appdata\\roaming\\python\\python38\\site-packages (from allensdk) (1.17.21)\n",
      "Requirement already satisfied: jinja2<2.12.0,>=2.7.3 in c:\\programdata\\anaconda3\\lib\\site-packages (from allensdk) (2.11.3)\n",
      "Requirement already satisfied: scipy<2.0.0,>=1.4.0 in c:\\programdata\\anaconda3\\lib\\site-packages (from allensdk) (1.6.2)\n",
      "Requirement already satisfied: seaborn<1.0.0 in c:\\programdata\\anaconda3\\lib\\site-packages (from allensdk) (0.11.1)\n",
      "Requirement already satisfied: numpy<1.19.0,>=1.15.4 in c:\\users\\osagiek\\appdata\\roaming\\python\\python38\\site-packages (from allensdk) (1.18.5)\n",
      "Requirement already satisfied: six<2.0.0,>=1.9.0 in c:\\programdata\\anaconda3\\lib\\site-packages (from allensdk) (1.15.0)\n",
      "Requirement already satisfied: nest-asyncio==1.2.0 in c:\\users\\osagiek\\appdata\\roaming\\python\\python38\\site-packages (from allensdk) (1.2.0)\n",
      "Requirement already satisfied: future<1.0.0,>=0.14.3 in c:\\programdata\\anaconda3\\lib\\site-packages (from allensdk) (0.18.2)\n",
      "Requirement already satisfied: cachetools<5.0.0,>=4.2.1 in c:\\users\\osagiek\\appdata\\roaming\\python\\python38\\site-packages (from allensdk) (4.2.4)\n",
      "Requirement already satisfied: hdmf<2.5.0 in c:\\users\\osagiek\\appdata\\roaming\\python\\python38\\site-packages (from allensdk) (2.4.0)\n",
      "Requirement already satisfied: argschema<4.0.0,>=3.0.1 in c:\\users\\osagiek\\appdata\\roaming\\python\\python38\\site-packages (from allensdk) (3.0.1)\n",
      "Requirement already satisfied: statsmodels<=0.13.0 in c:\\programdata\\anaconda3\\lib\\site-packages (from allensdk) (0.12.2)\n",
      "Requirement already satisfied: pynrrd<1.0.0,>=0.2.1 in c:\\users\\osagiek\\appdata\\roaming\\python\\python38\\site-packages (from allensdk) (0.4.2)\n",
      "Requirement already satisfied: simplejson<4.0.0,>=3.10.0 in c:\\users\\osagiek\\appdata\\roaming\\python\\python38\\site-packages (from allensdk) (3.17.5)\n",
      "Requirement already satisfied: requests-toolbelt<1.0.0 in c:\\users\\osagiek\\appdata\\roaming\\python\\python38\\site-packages (from allensdk) (0.9.1)\n",
      "Requirement already satisfied: h5py<3.0.0,>=2.8 in c:\\programdata\\anaconda3\\lib\\site-packages (from allensdk) (2.10.0)\n",
      "Requirement already satisfied: ndx-events<=0.2.0 in c:\\users\\osagiek\\appdata\\roaming\\python\\python38\\site-packages (from allensdk) (0.2.0)\n",
      "Requirement already satisfied: requests<3.0.0 in c:\\programdata\\anaconda3\\lib\\site-packages (from allensdk) (2.25.1)\n",
      "Requirement already satisfied: tables<4.0.0,>=3.6.0 in c:\\programdata\\anaconda3\\lib\\site-packages (from allensdk) (3.6.1)\n",
      "Requirement already satisfied: simpleitk<3.0.0,>=2.0.2 in c:\\users\\osagiek\\appdata\\roaming\\python\\python38\\site-packages (from allensdk) (2.1.1)\n",
      "Requirement already satisfied: psycopg2-binary<3.0.0,>=2.7 in c:\\users\\osagiek\\appdata\\roaming\\python\\python38\\site-packages (from allensdk) (2.9.1)\n",
      "Requirement already satisfied: aiohttp==3.7.4 in c:\\users\\osagiek\\appdata\\roaming\\python\\python38\\site-packages (from allensdk) (3.7.4)\n",
      "Requirement already satisfied: matplotlib<3.4.3,>=1.4.3 in c:\\programdata\\anaconda3\\lib\\site-packages (from allensdk) (3.3.4)\n",
      "Requirement already satisfied: tqdm>=4.27 in c:\\programdata\\anaconda3\\lib\\site-packages (from allensdk) (4.59.0)\n",
      "Requirement already satisfied: scikit-image<0.17.0,>=0.14.0 in c:\\users\\osagiek\\appdata\\roaming\\python\\python38\\site-packages (from allensdk) (0.16.2)\n",
      "Requirement already satisfied: pandas<=0.25.3,>=0.25.1 in c:\\users\\osagiek\\appdata\\roaming\\python\\python38\\site-packages (from allensdk) (0.25.3)\n",
      "Requirement already satisfied: chardet<4.0,>=2.0 in c:\\users\\osagiek\\appdata\\roaming\\python\\python38\\site-packages (from aiohttp==3.7.4->allensdk) (3.0.4)\n",
      "Requirement already satisfied: async-timeout<4.0,>=3.0 in c:\\users\\osagiek\\appdata\\roaming\\python\\python38\\site-packages (from aiohttp==3.7.4->allensdk) (3.0.1)\n",
      "Requirement already satisfied: attrs>=17.3.0 in c:\\programdata\\anaconda3\\lib\\site-packages (from aiohttp==3.7.4->allensdk) (20.3.0)\n",
      "Requirement already satisfied: typing-extensions>=3.6.5 in c:\\programdata\\anaconda3\\lib\\site-packages (from aiohttp==3.7.4->allensdk) (3.7.4.3)\n",
      "Requirement already satisfied: yarl<2.0,>=1.0 in c:\\users\\osagiek\\appdata\\roaming\\python\\python38\\site-packages (from aiohttp==3.7.4->allensdk) (1.7.0)\n",
      "Requirement already satisfied: multidict<7.0,>=4.5 in c:\\users\\osagiek\\appdata\\roaming\\python\\python38\\site-packages (from aiohttp==3.7.4->allensdk) (5.2.0)\n",
      "Requirement already satisfied: jmespath<1.0.0,>=0.7.1 in c:\\users\\osagiek\\appdata\\roaming\\python\\python38\\site-packages (from boto3==1.17.21->allensdk) (0.10.0)\n",
      "Requirement already satisfied: botocore<1.21.0,>=1.20.21 in c:\\users\\osagiek\\appdata\\roaming\\python\\python38\\site-packages (from boto3==1.17.21->allensdk) (1.20.112)\n",
      "Requirement already satisfied: s3transfer<0.4.0,>=0.3.0 in c:\\users\\osagiek\\appdata\\roaming\\python\\python38\\site-packages (from boto3==1.17.21->allensdk) (0.3.7)\n",
      "Requirement already satisfied: setuptools in c:\\programdata\\anaconda3\\lib\\site-packages (from glymur==0.8.19->allensdk) (52.0.0.post20210125)\n",
      "Requirement already satisfied: marshmallow<4.0,>=3.0.0 in c:\\users\\osagiek\\appdata\\roaming\\python\\python38\\site-packages (from argschema<4.0.0,>=3.0.1->allensdk) (3.14.0)\n",
      "Requirement already satisfied: pyyaml in c:\\programdata\\anaconda3\\lib\\site-packages (from argschema<4.0.0,>=3.0.1->allensdk) (5.4.1)\n",
      "Requirement already satisfied: python-dateutil<3.0.0,>=2.1 in c:\\programdata\\anaconda3\\lib\\site-packages (from botocore<1.21.0,>=1.20.21->boto3==1.17.21->allensdk) (2.8.1)\n",
      "Requirement already satisfied: urllib3<1.27,>=1.25.4 in c:\\programdata\\anaconda3\\lib\\site-packages (from botocore<1.21.0,>=1.20.21->boto3==1.17.21->allensdk) (1.26.4)\n",
      "Requirement already satisfied: ruamel.yaml<1,>=0.15 in c:\\users\\osagiek\\appdata\\roaming\\python\\python38\\site-packages (from hdmf<2.5.0->allensdk) (0.17.17)\n",
      "Requirement already satisfied: jsonschema<4,>=2.6.0 in c:\\programdata\\anaconda3\\lib\\site-packages (from hdmf<2.5.0->allensdk) (3.2.0)\n",
      "Requirement already satisfied: MarkupSafe>=0.23 in c:\\programdata\\anaconda3\\lib\\site-packages (from jinja2<2.12.0,>=2.7.3->allensdk) (1.1.1)\n",
      "Requirement already satisfied: pyrsistent>=0.14.0 in c:\\programdata\\anaconda3\\lib\\site-packages (from jsonschema<4,>=2.6.0->hdmf<2.5.0->allensdk) (0.17.3)\n",
      "Requirement already satisfied: pillow>=6.2.0 in c:\\programdata\\anaconda3\\lib\\site-packages (from matplotlib<3.4.3,>=1.4.3->allensdk) (8.2.0)\n",
      "Requirement already satisfied: cycler>=0.10 in c:\\programdata\\anaconda3\\lib\\site-packages (from matplotlib<3.4.3,>=1.4.3->allensdk) (0.10.0)\n",
      "Requirement already satisfied: pyparsing!=2.0.4,!=2.1.2,!=2.1.6,>=2.0.3 in c:\\programdata\\anaconda3\\lib\\site-packages (from matplotlib<3.4.3,>=1.4.3->allensdk) (2.4.7)\n",
      "Requirement already satisfied: kiwisolver>=1.0.1 in c:\\programdata\\anaconda3\\lib\\site-packages (from matplotlib<3.4.3,>=1.4.3->allensdk) (1.3.1)\n",
      "Requirement already satisfied: pytz>=2017.2 in c:\\programdata\\anaconda3\\lib\\site-packages (from pandas<=0.25.3,>=0.25.1->allensdk) (2021.1)\n",
      "Requirement already satisfied: idna<3,>=2.5 in c:\\programdata\\anaconda3\\lib\\site-packages (from requests<3.0.0->allensdk) (2.10)\n",
      "Requirement already satisfied: certifi>=2017.4.17 in c:\\programdata\\anaconda3\\lib\\site-packages (from requests<3.0.0->allensdk) (2020.12.5)\n",
      "Requirement already satisfied: ruamel.yaml.clib>=0.1.2 in c:\\users\\osagiek\\appdata\\roaming\\python\\python38\\site-packages (from ruamel.yaml<1,>=0.15->hdmf<2.5.0->allensdk) (0.2.6)\n",
      "Requirement already satisfied: distro in c:\\users\\osagiek\\appdata\\roaming\\python\\python38\\site-packages (from scikit-build<1.0.0->allensdk) (1.6.0)\n",
      "Requirement already satisfied: wheel>=0.29.0 in c:\\programdata\\anaconda3\\lib\\site-packages (from scikit-build<1.0.0->allensdk) (0.36.2)\n",
      "Requirement already satisfied: packaging in c:\\programdata\\anaconda3\\lib\\site-packages (from scikit-build<1.0.0->allensdk) (20.9)\n",
      "Requirement already satisfied: imageio>=2.3.0 in c:\\programdata\\anaconda3\\lib\\site-packages (from scikit-image<0.17.0,>=0.14.0->allensdk) (2.9.0)\n",
      "Requirement already satisfied: PyWavelets>=0.4.0 in c:\\programdata\\anaconda3\\lib\\site-packages (from scikit-image<0.17.0,>=0.14.0->allensdk) (1.1.1)\n",
      "Requirement already satisfied: networkx>=2.0 in c:\\programdata\\anaconda3\\lib\\site-packages (from scikit-image<0.17.0,>=0.14.0->allensdk) (2.5)\n",
      "Requirement already satisfied: decorator>=4.3.0 in c:\\programdata\\anaconda3\\lib\\site-packages (from networkx>=2.0->scikit-image<0.17.0,>=0.14.0->allensdk) (5.0.6)\n",
      "Requirement already satisfied: patsy>=0.5 in c:\\programdata\\anaconda3\\lib\\site-packages (from statsmodels<=0.13.0->allensdk) (0.5.1)\n",
      "Requirement already satisfied: numexpr>=2.6.2 in c:\\programdata\\anaconda3\\lib\\site-packages (from tables<4.0.0,>=3.6.0->allensdk) (2.7.3)\n",
      "Note: you may need to restart the kernel to use updated packages.\n"
     ]
    }
   ],
   "source": [
    "pip install --user allensdk"
   ]
  },
  {
   "cell_type": "markdown",
   "id": "73a005bb",
   "metadata": {},
   "source": [
    "### Starting Code:"
   ]
  },
  {
   "cell_type": "code",
   "execution_count": 3,
   "id": "f3e5c138",
   "metadata": {},
   "outputs": [],
   "source": [
    "import os\n",
    "import shutil\n",
    "import allensdk #add to template\n",
    "import pprint\n",
    "\n",
    "import numpy as np\n",
    "import pandas as pd\n",
    "\n",
    "\n",
    "import matplotlib.pyplot as plt\n",
    "%matplotlib inline\n",
    "\n",
    "# You may have to change the following code depending on whether you are working with EcephysProjectCache or BrainObservatoryCache. \n",
    "from allensdk.core.brain_observatory_cache import BrainObservatoryCache"
   ]
  },
  {
   "cell_type": "code",
   "execution_count": 4,
   "id": "d971c6ca",
   "metadata": {},
   "outputs": [],
   "source": [
    "data_directory = 'allen_files' \n",
    "\n",
    "manifest_path = os.path.join(data_directory, \"manifest.json\")\n",
    "boc = BrainObservatoryCache(manifest_file = manifest_path)"
   ]
  },
  {
   "cell_type": "code",
   "execution_count": 4,
   "id": "0a4c6e6e",
   "metadata": {},
   "outputs": [],
   "source": [
    "loud_scenes = [1, 2, 3, 5, 6, 7, 8, 9, 10, 11, 12, 13, 14, 15, 16, 17, 18, 23, 24, 28, 30, 33, 35, 37, 39, \n",
    "               40, 45, 46, 47, 48, 51, 54, 57, 58, 80]\n",
    "quiet_scenes = [4, 19, 20, 21, 22, 25, 26, 27, 29, 31, 32, 34, 36, 38, 41, 42, 43, 44, 49, 50, 52, 53, 55, \n",
    "                56, 59, 60, 61, 62, 63, 64, 65, 66, 67, 68, 69, 70, 71, 72, 73, 74, 75, 76, 77, 78, 79, 81, \n",
    "                82, 83, 84, 85, 86, 87, 88, 89, 90, 91, 92, 93, 94, 95, 96, 97, 98, 99, 100, 101, 102, 103, \n",
    "                104, 105, 106, 107, 108, 109, 110, 111, 112, 113, 114, 115, 116, 117, 118]"
   ]
  },
  {
   "cell_type": "markdown",
   "id": "250ce636",
   "metadata": {},
   "source": [
    "### Fixing an error in my lists\n",
    "\n",
    "I forgot that indexing in python starts at 0, not 1, so the first and last natural scenes should correspond with 0 and 117, respectively. I use a for loop to correct this."
   ]
  },
  {
   "cell_type": "code",
   "execution_count": 5,
   "id": "b20784e8",
   "metadata": {},
   "outputs": [
    {
     "name": "stdout",
     "output_type": "stream",
     "text": [
      "[0, 1, 2, 4, 5, 6, 7, 8, 9, 10, 11, 12, 13, 14, 15, 16, 17, 22, 23, 27, 29, 32, 34, 36, 38, 39, 44, 45, 46, 47, 50, 53, 56, 57, 79]\n",
      "[3, 18, 19, 20, 21, 24, 25, 26, 28, 30, 31, 33, 35, 37, 40, 41, 42, 43, 48, 49, 51, 52, 54, 55, 58, 59, 60, 61, 62, 63, 64, 65, 66, 67, 68, 69, 70, 71, 72, 73, 74, 75, 76, 77, 78, 80, 81, 82, 83, 84, 85, 86, 87, 88, 89, 90, 91, 92, 93, 94, 95, 96, 97, 98, 99, 100, 101, 102, 103, 104, 105, 106, 107, 108, 109, 110, 111, 112, 113, 114, 115, 116, 117]\n"
     ]
    }
   ],
   "source": [
    "for i in range(len(loud_scenes)):\n",
    "    loud_scenes[i] -= 1\n",
    "for i in range(len(quiet_scenes)):\n",
    "    quiet_scenes[i] -= 1\n",
    "print(loud_scenes)\n",
    "print(quiet_scenes)"
   ]
  },
  {
   "cell_type": "code",
   "execution_count": 6,
   "id": "055c6bc9",
   "metadata": {},
   "outputs": [],
   "source": [
    "#New lists:\n",
    "loud_scenes = [0, 1, 2, 4, 5, 6, 7, 8, 9, 10, 11, 12, 13, 14, 15, 16, 17, 22, 23, 27, 29, 32, 34, 36, 38, 39, 44, 45, 46, 47,\n",
    "               50, 53, 56, 57, 79]\n",
    "quiet_scenes = [3, 18, 19, 20, 21, 24, 25, 26, 28, 30, 31, 33, 35, 37, 40, 41, 42, 43, 48, 49, 51, 52, 54, 55, 58, 59, 60,\n",
    "                61, 62, 63, 64, 65, 66, 67, 68, 69, 70, 71, 72, 73, 74, 75, 76, 77, 78, 80, 81, 82, 83, 84, 85, 86, 87, 88,\n",
    "                89, 90, 91, 92, 93, 94, 95, 96, 97, 98, 99, 100, 101, 102, 103, 104, 105, 106, 107, 108, 109, 110, 111, 112,\n",
    "                113, 114, 115, 116, 117]"
   ]
  },
  {
   "cell_type": "code",
   "execution_count": 29,
   "id": "fbba55e3",
   "metadata": {
    "scrolled": true
   },
   "outputs": [
    {
     "name": "stdout",
     "output_type": "stream",
     "text": [
      "total cells: 63251\n",
      "cells with dff response to natural scene: 40064\n"
     ]
    }
   ],
   "source": [
    "cells = boc.get_cell_specimens()\n",
    "cells = pd.DataFrame.from_records(cells)\n",
    "print(\"total cells: %d\" % len(cells))\n",
    "\n",
    "scene_cells = cells[ cells['peak_dff_ns'] == cells['peak_dff_ns'] ]\n",
    "print(\"cells with dff response to natural scene: %d\" % len(scene_cells))"
   ]
  },
  {
   "cell_type": "code",
   "execution_count": 68,
   "id": "f707bf18",
   "metadata": {},
   "outputs": [
    {
     "name": "stdout",
     "output_type": "stream",
     "text": [
      "Index(['all_stim', 'area', 'cell_specimen_id', 'donor_full_genotype', 'dsi_dg',\n",
      "       'experiment_container_id', 'failed_experiment_container', 'g_dsi_dg',\n",
      "       'g_osi_dg', 'g_osi_sg', 'image_sel_ns', 'imaging_depth', 'osi_dg',\n",
      "       'osi_sg', 'p_dg', 'p_ns', 'p_run_mod_dg', 'p_run_mod_ns',\n",
      "       'p_run_mod_sg', 'p_sg', 'peak_dff_dg', 'peak_dff_ns', 'peak_dff_sg',\n",
      "       'pref_dir_dg', 'pref_image_ns', 'pref_ori_sg', 'pref_phase_sg',\n",
      "       'pref_sf_sg', 'pref_tf_dg', 'reliability_dg', 'reliability_nm1_a',\n",
      "       'reliability_nm1_b', 'reliability_nm1_c', 'reliability_nm2',\n",
      "       'reliability_nm3', 'reliability_ns', 'reliability_sg',\n",
      "       'rf_area_off_lsn', 'rf_area_on_lsn', 'rf_center_off_x_lsn',\n",
      "       'rf_center_off_y_lsn', 'rf_center_on_x_lsn', 'rf_center_on_y_lsn',\n",
      "       'rf_chi2_lsn', 'rf_distance_lsn', 'rf_overlap_index_lsn', 'run_mod_dg',\n",
      "       'run_mod_ns', 'run_mod_sg', 'sfdi_sg', 'specimen_id', 'tfdi_dg',\n",
      "       'time_to_peak_ns', 'time_to_peak_sg', 'tld1_id', 'tld1_name', 'tld2_id',\n",
      "       'tld2_name', 'tlr1_id', 'tlr1_name'],\n",
      "      dtype='object')\n",
      "6        24.595700\n",
      "7        17.981902\n",
      "8         9.363547\n",
      "9         4.040519\n",
      "10        2.473669\n",
      "           ...    \n",
      "63240     2.684005\n",
      "63242    24.758148\n",
      "63245     6.455488\n",
      "63246    10.803343\n",
      "63250     3.985327\n",
      "Name: peak_dff_ns, Length: 40064, dtype: float64\n"
     ]
    }
   ],
   "source": [
    "print(cells.columns)\n",
    "print(scene_cells['peak_dff_ns'])"
   ]
  },
  {
   "cell_type": "code",
   "execution_count": 45,
   "id": "eb73ceaa",
   "metadata": {},
   "outputs": [
    {
     "name": "stdout",
     "output_type": "stream",
     "text": [
      "total scene experiment containers: 456\n",
      "Scene ophys experiments: 456\n",
      "{'acquisition_age_days': 125,\n",
      " 'cre_line': 'Scnn1a-Tg3-Cre',\n",
      " 'donor_name': '246775',\n",
      " 'experiment_container_id': 531134088,\n",
      " 'fail_eye_tracking': False,\n",
      " 'id': 531342486,\n",
      " 'imaging_depth': 335,\n",
      " 'reporter_line': 'Ai93(TITL-GCaMP6f)',\n",
      " 'session_type': 'three_session_B',\n",
      " 'specimen_name': 'Scnn1a-Tg3-Cre;Camk2a-tTA;Ai93-246775',\n",
      " 'targeted_structure': 'VISp'}\n"
     ]
    }
   ],
   "source": [
    "scene_ec_ids = scene_cells['experiment_container_id'].unique()\n",
    "print(\"total scene experiment containers: %d\" % len(scene_ec_ids))\n",
    "\n",
    "scene_exps = boc.get_ophys_experiments(experiment_container_ids=scene_ec_ids, stimuli=['natural_scenes'])\n",
    "print(\"Scene ophys experiments: %d\" % len(scene_exps))\n"
   ]
  },
  {
   "cell_type": "code",
   "execution_count": 63,
   "id": "48fc370d",
   "metadata": {},
   "outputs": [],
   "source": [
    "scene_cell = scene_cells.iloc[0]\n",
    "\n",
    "cell_exp = boc.get_ophys_experiments(cell_specimen_ids=[scene_cell['cell_specimen_id']],\n",
    "                                     stimuli=['natural_scenes'])[0]\n",
    "\n",
    "data_set = boc.get_ophys_experiment_data(cell_exp['id'])"
   ]
  },
  {
   "cell_type": "code",
   "execution_count": 59,
   "id": "2af5727d",
   "metadata": {},
   "outputs": [
    {
     "data": {
      "image/png": "[encoded data removed]",
      "text/plain": [
       "<Figure size 1008x288 with 1 Axes>"
      ]
     },
     "metadata": {
      "needs_background": "light"
     },
     "output_type": "display_data"
    }
   ],
   "source": [
    "time, dff_traces = data_set.get_dff_traces(cell_specimen_ids=[scene_cell['cell_specimen_id']])\n",
    "\n",
    "plt.figure(figsize=(14,4))\n",
    "plt.title(\"dF/F Trace\")\n",
    "# warning: dF/F can occasionally be one element longer or shorter \n",
    "# than the time stamps for the original traces.\n",
    "plt.plot(time[:len(dff_traces[0])], dff_traces[0])\n",
    "plt.show()"
   ]
  },
  {
   "cell_type": "code",
   "execution_count": 50,
   "id": "fa7a7446",
   "metadata": {
    "collapsed": true
   },
   "outputs": [
    {
     "ename": "OSError",
     "evalue": "Unable to open file (truncated file: eof = 257240064, sblock->base_addr = 0, stored_eof = 469803439)",
     "output_type": "error",
     "traceback": [
      "\u001b[1;31m---------------------------------------------------------------------------\u001b[0m",
      "\u001b[1;31mOSError\u001b[0m                                   Traceback (most recent call last)",
      "\u001b[1;32m<ipython-input-50-87aaa348ab00>\u001b[0m in \u001b[0;36m<module>\u001b[1;34m\u001b[0m\n\u001b[0;32m      7\u001b[0m     \u001b[0mexp\u001b[0m \u001b[1;33m=\u001b[0m \u001b[0mexps\u001b[0m\u001b[1;33m[\u001b[0m\u001b[0mi\u001b[0m\u001b[1;33m]\u001b[0m\u001b[1;33m\u001b[0m\u001b[1;33m\u001b[0m\u001b[0m\n\u001b[0;32m      8\u001b[0m     \u001b[0mexp_id\u001b[0m \u001b[1;33m=\u001b[0m \u001b[0mexp\u001b[0m\u001b[1;33m[\u001b[0m\u001b[1;34m'id'\u001b[0m\u001b[1;33m]\u001b[0m\u001b[1;33m\u001b[0m\u001b[1;33m\u001b[0m\u001b[0m\n\u001b[1;32m----> 9\u001b[1;33m     \u001b[0mexp_data\u001b[0m \u001b[1;33m=\u001b[0m \u001b[0mboc\u001b[0m\u001b[1;33m.\u001b[0m\u001b[0mget_ophys_experiment_data\u001b[0m\u001b[1;33m(\u001b[0m\u001b[0mexp_id\u001b[0m\u001b[1;33m)\u001b[0m\u001b[1;33m\u001b[0m\u001b[1;33m\u001b[0m\u001b[0m\n\u001b[0m\u001b[0;32m     10\u001b[0m \u001b[1;33m\u001b[0m\u001b[0m\n\u001b[0;32m     11\u001b[0m     \u001b[1;32mif\u001b[0m\u001b[1;33m(\u001b[0m\u001b[0mexp_data\u001b[0m\u001b[1;33m.\u001b[0m\u001b[0mget_metadata\u001b[0m\u001b[1;33m(\u001b[0m\u001b[1;33m)\u001b[0m\u001b[1;33m[\u001b[0m\u001b[1;34m'sex'\u001b[0m\u001b[1;33m]\u001b[0m \u001b[1;33m==\u001b[0m \u001b[1;34m'male'\u001b[0m\u001b[1;33m)\u001b[0m\u001b[1;33m:\u001b[0m\u001b[1;33m\u001b[0m\u001b[1;33m\u001b[0m\u001b[0m\n",
      "\u001b[1;32m~\\AppData\\Roaming\\Python\\Python38\\site-packages\\allensdk\\core\\brain_observatory_cache.py\u001b[0m in \u001b[0;36mget_ophys_experiment_data\u001b[1;34m(self, ophys_experiment_id, file_name)\u001b[0m\n\u001b[0;32m    487\u001b[0m         \u001b[0mself\u001b[0m\u001b[1;33m.\u001b[0m\u001b[0mapi\u001b[0m\u001b[1;33m.\u001b[0m\u001b[0msave_ophys_experiment_data\u001b[0m\u001b[1;33m(\u001b[0m\u001b[0mophys_experiment_id\u001b[0m\u001b[1;33m,\u001b[0m \u001b[0mfile_name\u001b[0m\u001b[1;33m,\u001b[0m \u001b[0mstrategy\u001b[0m\u001b[1;33m=\u001b[0m\u001b[1;34m'lazy'\u001b[0m\u001b[1;33m)\u001b[0m\u001b[1;33m\u001b[0m\u001b[1;33m\u001b[0m\u001b[0m\n\u001b[0;32m    488\u001b[0m \u001b[1;33m\u001b[0m\u001b[0m\n\u001b[1;32m--> 489\u001b[1;33m         \u001b[1;32mreturn\u001b[0m \u001b[0mBrainObservatoryNwbDataSet\u001b[0m\u001b[1;33m(\u001b[0m\u001b[0mfile_name\u001b[0m\u001b[1;33m)\u001b[0m\u001b[1;33m\u001b[0m\u001b[1;33m\u001b[0m\u001b[0m\n\u001b[0m\u001b[0;32m    490\u001b[0m \u001b[1;33m\u001b[0m\u001b[0m\n\u001b[0;32m    491\u001b[0m     \u001b[1;32mdef\u001b[0m \u001b[0mget_ophys_experiment_analysis\u001b[0m\u001b[1;33m(\u001b[0m\u001b[0mself\u001b[0m\u001b[1;33m,\u001b[0m \u001b[0mophys_experiment_id\u001b[0m\u001b[1;33m,\u001b[0m \u001b[0mstimulus_type\u001b[0m\u001b[1;33m,\u001b[0m \u001b[0mfile_name\u001b[0m\u001b[1;33m=\u001b[0m\u001b[1;32mNone\u001b[0m\u001b[1;33m)\u001b[0m\u001b[1;33m:\u001b[0m\u001b[1;33m\u001b[0m\u001b[1;33m\u001b[0m\u001b[0m\n",
      "\u001b[1;32m~\\AppData\\Roaming\\Python\\Python38\\site-packages\\allensdk\\core\\brain_observatory_nwb_data_set.py\u001b[0m in \u001b[0;36m__init__\u001b[1;34m(self, nwb_file)\u001b[0m\n\u001b[0;32m    143\u001b[0m \u001b[1;33m\u001b[0m\u001b[0m\n\u001b[0;32m    144\u001b[0m         \u001b[1;32mif\u001b[0m \u001b[0mos\u001b[0m\u001b[1;33m.\u001b[0m\u001b[0mpath\u001b[0m\u001b[1;33m.\u001b[0m\u001b[0mexists\u001b[0m\u001b[1;33m(\u001b[0m\u001b[0mself\u001b[0m\u001b[1;33m.\u001b[0m\u001b[0mnwb_file\u001b[0m\u001b[1;33m)\u001b[0m\u001b[1;33m:\u001b[0m\u001b[1;33m\u001b[0m\u001b[1;33m\u001b[0m\u001b[0m\n\u001b[1;32m--> 145\u001b[1;33m             \u001b[0mmeta\u001b[0m \u001b[1;33m=\u001b[0m \u001b[0mself\u001b[0m\u001b[1;33m.\u001b[0m\u001b[0mget_metadata\u001b[0m\u001b[1;33m(\u001b[0m\u001b[1;33m)\u001b[0m\u001b[1;33m\u001b[0m\u001b[1;33m\u001b[0m\u001b[0m\n\u001b[0m\u001b[0;32m    146\u001b[0m             \u001b[1;32mif\u001b[0m \u001b[0mmeta\u001b[0m \u001b[1;32mand\u001b[0m \u001b[1;34m'pipeline_version'\u001b[0m \u001b[1;32min\u001b[0m \u001b[0mmeta\u001b[0m\u001b[1;33m:\u001b[0m\u001b[1;33m\u001b[0m\u001b[1;33m\u001b[0m\u001b[0m\n\u001b[0;32m    147\u001b[0m                 \u001b[0mpipeline_version_str\u001b[0m \u001b[1;33m=\u001b[0m \u001b[0mmeta\u001b[0m\u001b[1;33m[\u001b[0m\u001b[1;34m'pipeline_version'\u001b[0m\u001b[1;33m]\u001b[0m\u001b[1;33m\u001b[0m\u001b[1;33m\u001b[0m\u001b[0m\n",
      "\u001b[1;32m~\\AppData\\Roaming\\Python\\Python38\\site-packages\\allensdk\\core\\brain_observatory_nwb_data_set.py\u001b[0m in \u001b[0;36mget_metadata\u001b[1;34m(self)\u001b[0m\n\u001b[0;32m    737\u001b[0m         \u001b[0mmeta\u001b[0m \u001b[1;33m=\u001b[0m \u001b[1;33m{\u001b[0m\u001b[1;33m}\u001b[0m\u001b[1;33m\u001b[0m\u001b[1;33m\u001b[0m\u001b[0m\n\u001b[0;32m    738\u001b[0m \u001b[1;33m\u001b[0m\u001b[0m\n\u001b[1;32m--> 739\u001b[1;33m         \u001b[1;32mwith\u001b[0m \u001b[0mh5py\u001b[0m\u001b[1;33m.\u001b[0m\u001b[0mFile\u001b[0m\u001b[1;33m(\u001b[0m\u001b[0mself\u001b[0m\u001b[1;33m.\u001b[0m\u001b[0mnwb_file\u001b[0m\u001b[1;33m,\u001b[0m \u001b[1;34m'r'\u001b[0m\u001b[1;33m)\u001b[0m \u001b[1;32mas\u001b[0m \u001b[0mf\u001b[0m\u001b[1;33m:\u001b[0m\u001b[1;33m\u001b[0m\u001b[1;33m\u001b[0m\u001b[0m\n\u001b[0m\u001b[0;32m    740\u001b[0m             \u001b[1;32mfor\u001b[0m \u001b[0mmemory_key\u001b[0m\u001b[1;33m,\u001b[0m \u001b[0mdisk_key\u001b[0m \u001b[1;32min\u001b[0m \u001b[0mBrainObservatoryNwbDataSet\u001b[0m\u001b[1;33m.\u001b[0m\u001b[0mFILE_METADATA_MAPPING\u001b[0m\u001b[1;33m.\u001b[0m\u001b[0mitems\u001b[0m\u001b[1;33m(\u001b[0m\u001b[1;33m)\u001b[0m\u001b[1;33m:\u001b[0m\u001b[1;33m\u001b[0m\u001b[1;33m\u001b[0m\u001b[0m\n\u001b[0;32m    741\u001b[0m                 \u001b[1;32mtry\u001b[0m\u001b[1;33m:\u001b[0m\u001b[1;33m\u001b[0m\u001b[1;33m\u001b[0m\u001b[0m\n",
      "\u001b[1;32mC:\\ProgramData\\Anaconda3\\lib\\site-packages\\h5py\\_hl\\files.py\u001b[0m in \u001b[0;36m__init__\u001b[1;34m(self, name, mode, driver, libver, userblock_size, swmr, rdcc_nslots, rdcc_nbytes, rdcc_w0, track_order, **kwds)\u001b[0m\n\u001b[0;32m    404\u001b[0m             \u001b[1;32mwith\u001b[0m \u001b[0mphil\u001b[0m\u001b[1;33m:\u001b[0m\u001b[1;33m\u001b[0m\u001b[1;33m\u001b[0m\u001b[0m\n\u001b[0;32m    405\u001b[0m                 \u001b[0mfapl\u001b[0m \u001b[1;33m=\u001b[0m \u001b[0mmake_fapl\u001b[0m\u001b[1;33m(\u001b[0m\u001b[0mdriver\u001b[0m\u001b[1;33m,\u001b[0m \u001b[0mlibver\u001b[0m\u001b[1;33m,\u001b[0m \u001b[0mrdcc_nslots\u001b[0m\u001b[1;33m,\u001b[0m \u001b[0mrdcc_nbytes\u001b[0m\u001b[1;33m,\u001b[0m \u001b[0mrdcc_w0\u001b[0m\u001b[1;33m,\u001b[0m \u001b[1;33m**\u001b[0m\u001b[0mkwds\u001b[0m\u001b[1;33m)\u001b[0m\u001b[1;33m\u001b[0m\u001b[1;33m\u001b[0m\u001b[0m\n\u001b[1;32m--> 406\u001b[1;33m                 fid = make_fid(name, mode, userblock_size,\n\u001b[0m\u001b[0;32m    407\u001b[0m                                \u001b[0mfapl\u001b[0m\u001b[1;33m,\u001b[0m \u001b[0mfcpl\u001b[0m\u001b[1;33m=\u001b[0m\u001b[0mmake_fcpl\u001b[0m\u001b[1;33m(\u001b[0m\u001b[0mtrack_order\u001b[0m\u001b[1;33m=\u001b[0m\u001b[0mtrack_order\u001b[0m\u001b[1;33m)\u001b[0m\u001b[1;33m,\u001b[0m\u001b[1;33m\u001b[0m\u001b[1;33m\u001b[0m\u001b[0m\n\u001b[0;32m    408\u001b[0m                                swmr=swmr)\n",
      "\u001b[1;32mC:\\ProgramData\\Anaconda3\\lib\\site-packages\\h5py\\_hl\\files.py\u001b[0m in \u001b[0;36mmake_fid\u001b[1;34m(name, mode, userblock_size, fapl, fcpl, swmr)\u001b[0m\n\u001b[0;32m    171\u001b[0m         \u001b[1;32mif\u001b[0m \u001b[0mswmr\u001b[0m \u001b[1;32mand\u001b[0m \u001b[0mswmr_support\u001b[0m\u001b[1;33m:\u001b[0m\u001b[1;33m\u001b[0m\u001b[1;33m\u001b[0m\u001b[0m\n\u001b[0;32m    172\u001b[0m             \u001b[0mflags\u001b[0m \u001b[1;33m|=\u001b[0m \u001b[0mh5f\u001b[0m\u001b[1;33m.\u001b[0m\u001b[0mACC_SWMR_READ\u001b[0m\u001b[1;33m\u001b[0m\u001b[1;33m\u001b[0m\u001b[0m\n\u001b[1;32m--> 173\u001b[1;33m         \u001b[0mfid\u001b[0m \u001b[1;33m=\u001b[0m \u001b[0mh5f\u001b[0m\u001b[1;33m.\u001b[0m\u001b[0mopen\u001b[0m\u001b[1;33m(\u001b[0m\u001b[0mname\u001b[0m\u001b[1;33m,\u001b[0m \u001b[0mflags\u001b[0m\u001b[1;33m,\u001b[0m \u001b[0mfapl\u001b[0m\u001b[1;33m=\u001b[0m\u001b[0mfapl\u001b[0m\u001b[1;33m)\u001b[0m\u001b[1;33m\u001b[0m\u001b[1;33m\u001b[0m\u001b[0m\n\u001b[0m\u001b[0;32m    174\u001b[0m     \u001b[1;32melif\u001b[0m \u001b[0mmode\u001b[0m \u001b[1;33m==\u001b[0m \u001b[1;34m'r+'\u001b[0m\u001b[1;33m:\u001b[0m\u001b[1;33m\u001b[0m\u001b[1;33m\u001b[0m\u001b[0m\n\u001b[0;32m    175\u001b[0m         \u001b[0mfid\u001b[0m \u001b[1;33m=\u001b[0m \u001b[0mh5f\u001b[0m\u001b[1;33m.\u001b[0m\u001b[0mopen\u001b[0m\u001b[1;33m(\u001b[0m\u001b[0mname\u001b[0m\u001b[1;33m,\u001b[0m \u001b[0mh5f\u001b[0m\u001b[1;33m.\u001b[0m\u001b[0mACC_RDWR\u001b[0m\u001b[1;33m,\u001b[0m \u001b[0mfapl\u001b[0m\u001b[1;33m=\u001b[0m\u001b[0mfapl\u001b[0m\u001b[1;33m)\u001b[0m\u001b[1;33m\u001b[0m\u001b[1;33m\u001b[0m\u001b[0m\n",
      "\u001b[1;32mh5py\\_objects.pyx\u001b[0m in \u001b[0;36mh5py._objects.with_phil.wrapper\u001b[1;34m()\u001b[0m\n",
      "\u001b[1;32mh5py\\_objects.pyx\u001b[0m in \u001b[0;36mh5py._objects.with_phil.wrapper\u001b[1;34m()\u001b[0m\n",
      "\u001b[1;32mh5py\\h5f.pyx\u001b[0m in \u001b[0;36mh5py.h5f.open\u001b[1;34m()\u001b[0m\n",
      "\u001b[1;31mOSError\u001b[0m: Unable to open file (truncated file: eof = 257240064, sblock->base_addr = 0, stored_eof = 469803439)"
     ]
    }
   ],
   "source": [
    "exps = boc.get_ophys_experiments(stimuli=['natural_scenes'])\n",
    "\n",
    "male_exp_ids = []\n",
    "female_exp_ids = []\n",
    "\n",
    "for i in range(len(exps)):\n",
    "    exp = exps[i]\n",
    "    exp_id = exp['id']\n",
    "    exp_data = boc.get_ophys_experiment_data(exp_id)\n",
    "    \n",
    "    if(exp_data.get_metadata()['sex'] == 'male'):\n",
    "        male_exp_ids.append(exp_id)\n",
    "    else:\n",
    "        female_exp_ids.append(exp_id)"
   ]
  },
  {
   "cell_type": "code",
   "execution_count": 45,
   "id": "68005f19",
   "metadata": {},
   "outputs": [
    {
     "name": "stdout",
     "output_type": "stream",
     "text": [
      "[503772253, 662960692, 593887846, 598905882, 501794235, 603516552, 590109296, 664414452, 614535829, 507304910, 660510504]\n",
      "[663488086, 570006683, 511458599, 691201201, 717214654, 617395439]\n"
     ]
    }
   ],
   "source": [
    "print(male_exp_ids)\n",
    "print(female_exp_ids)"
   ]
  },
  {
   "cell_type": "code",
   "execution_count": null,
   "id": "374393a9",
   "metadata": {},
   "outputs": [],
   "source": [
    "male_exp_ids = [503772253, 662960692, 593887846, 598905882, 501794235, 603516552, 590109296, 664414452, 614535829, 507304910, 660510504]\n",
    "female_exp_ids = [663488086, 570006683, 511458599, 691201201, 717214654, 617395439]"
   ]
  },
  {
   "cell_type": "markdown",
   "id": "741d2ec2",
   "metadata": {},
   "source": [
    "List of precomputed cell metrics: https://alleninstitute.github.io/AllenSDK/brain_observatory.html\n",
    "boc methods/parameters: https://alleninstitute.github.io/AllenSDK/allensdk.core.brain_observatory_cache.html"
   ]
  }
 ],
 "metadata": {
  "kernelspec": {
   "display_name": "Python 3",
   "language": "python",
   "name": "python3"
  },
  "language_info": {
   "codemirror_mode": {
    "name": "ipython",
    "version": 3
   },
   "file_extension": ".py",
   "mimetype": "text/x-python",
   "name": "python",
   "nbconvert_exporter": "python",
   "pygments_lexer": "ipython3",
   "version": "3.8.8"
  }
 },
 "nbformat": 4,
 "nbformat_minor": 5
}
