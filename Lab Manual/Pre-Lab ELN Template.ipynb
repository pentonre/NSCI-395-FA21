{
 "cells": [
  {
   "cell_type": "markdown",
   "id": "4df3c901",
   "metadata": {},
   "source": [
    "# Pre-Lab ELN Template"
   ]
  },
  {
   "cell_type": "markdown",
   "id": "f68d7d94",
   "metadata": {},
   "source": [
    "### Name:     \n",
    "\n",
    "\n",
    "### Date: \n",
    "\n",
    "\n",
    "### PID:\n",
    "\n",
    "\n",
    "### Jupyter Notebook Number: "
   ]
  },
  {
   "cell_type": "markdown",
   "id": "63746866",
   "metadata": {},
   "source": [
    "## Purpose/Objective:\n",
    "Insert text. "
   ]
  },
  {
   "cell_type": "markdown",
   "id": "e93b0443",
   "metadata": {},
   "source": [
    "## Protocol:\n",
    "Insert Text."
   ]
  },
  {
   "cell_type": "markdown",
   "id": "76ac5820",
   "metadata": {},
   "source": [
    "## Expected Results:\n",
    "Insert text. "
   ]
  },
  {
   "cell_type": "markdown",
   "id": "c72c9c35",
   "metadata": {},
   "source": [
    "### Installing AllenSDK into your local environment. "
   ]
  },
  {
   "cell_type": "code",
   "execution_count": 1,
   "id": "6d70974b",
   "metadata": {},
   "outputs": [
    {
     "name": "stdout",
     "output_type": "stream",
     "text": [
      "Requirement already satisfied: allensdk in ./.local/lib/python3.8/site-packages (2.12.3)\n",
      "Requirement already satisfied: numpy<1.19.0,>=1.15.4 in ./.local/lib/python3.8/site-packages (from allensdk) (1.18.5)\n",
      "Requirement already satisfied: h5py<3.0.0,>=2.8 in ./opt/anaconda3/lib/python3.8/site-packages (from allensdk) (2.10.0)\n",
      "Requirement already satisfied: psycopg2-binary<3.0.0,>=2.7 in ./.local/lib/python3.8/site-packages (from allensdk) (2.9.1)\n",
      "Requirement already satisfied: nest-asyncio==1.2.0 in ./.local/lib/python3.8/site-packages (from allensdk) (1.2.0)\n",
      "Requirement already satisfied: jinja2<2.12.0,>=2.7.3 in ./opt/anaconda3/lib/python3.8/site-packages (from allensdk) (2.11.3)\n",
      "Requirement already satisfied: six<2.0.0,>=1.9.0 in ./opt/anaconda3/lib/python3.8/site-packages (from allensdk) (1.15.0)\n",
      "Requirement already satisfied: aiohttp==3.7.4 in ./.local/lib/python3.8/site-packages (from allensdk) (3.7.4)\n",
      "Requirement already satisfied: simpleitk<3.0.0,>=2.0.2 in ./.local/lib/python3.8/site-packages (from allensdk) (2.1.1)\n",
      "Requirement already satisfied: pynrrd<1.0.0,>=0.2.1 in ./.local/lib/python3.8/site-packages (from allensdk) (0.4.2)\n",
      "Requirement already satisfied: seaborn<1.0.0 in ./opt/anaconda3/lib/python3.8/site-packages (from allensdk) (0.11.1)\n",
      "Requirement already satisfied: matplotlib<3.4.3,>=1.4.3 in ./opt/anaconda3/lib/python3.8/site-packages (from allensdk) (3.3.4)\n",
      "Requirement already satisfied: requests<3.0.0 in ./opt/anaconda3/lib/python3.8/site-packages (from allensdk) (2.25.1)\n",
      "Requirement already satisfied: pandas<=0.25.3,>=0.25.1 in ./.local/lib/python3.8/site-packages (from allensdk) (0.25.3)\n",
      "Requirement already satisfied: simplejson<4.0.0,>=3.10.0 in ./.local/lib/python3.8/site-packages (from allensdk) (3.17.5)\n",
      "Requirement already satisfied: semver in ./.local/lib/python3.8/site-packages (from allensdk) (2.13.0)\n",
      "Requirement already satisfied: ndx-events<=0.2.0 in ./.local/lib/python3.8/site-packages (from allensdk) (0.2.0)\n",
      "Requirement already satisfied: glymur==0.8.19 in ./.local/lib/python3.8/site-packages (from allensdk) (0.8.19)\n",
      "Requirement already satisfied: future<1.0.0,>=0.14.3 in ./opt/anaconda3/lib/python3.8/site-packages (from allensdk) (0.18.2)\n",
      "Requirement already satisfied: pynwb<2.0.0,>=1.3.2 in ./.local/lib/python3.8/site-packages (from allensdk) (1.4.0)\n",
      "Requirement already satisfied: xarray<0.16.0 in ./.local/lib/python3.8/site-packages (from allensdk) (0.15.1)\n",
      "Requirement already satisfied: requests-toolbelt<1.0.0 in ./.local/lib/python3.8/site-packages (from allensdk) (0.9.1)\n",
      "Requirement already satisfied: tqdm>=4.27 in ./opt/anaconda3/lib/python3.8/site-packages (from allensdk) (4.59.0)\n",
      "Requirement already satisfied: argschema<4.0.0,>=3.0.1 in ./.local/lib/python3.8/site-packages (from allensdk) (3.0.1)\n",
      "Requirement already satisfied: scikit-build<1.0.0 in ./.local/lib/python3.8/site-packages (from allensdk) (0.12.0)\n",
      "Requirement already satisfied: hdmf<2.5.0 in ./.local/lib/python3.8/site-packages (from allensdk) (2.4.0)\n",
      "Requirement already satisfied: statsmodels<=0.13.0 in ./opt/anaconda3/lib/python3.8/site-packages (from allensdk) (0.12.2)\n",
      "Requirement already satisfied: tables<4.0.0,>=3.6.0 in ./opt/anaconda3/lib/python3.8/site-packages (from allensdk) (3.6.1)\n",
      "Requirement already satisfied: scikit-image<0.17.0,>=0.14.0 in ./.local/lib/python3.8/site-packages (from allensdk) (0.16.2)\n",
      "Requirement already satisfied: scipy<2.0.0,>=1.4.0 in ./opt/anaconda3/lib/python3.8/site-packages (from allensdk) (1.6.2)\n",
      "Requirement already satisfied: boto3==1.17.21 in ./.local/lib/python3.8/site-packages (from allensdk) (1.17.21)\n",
      "Requirement already satisfied: attrs>=17.3.0 in ./opt/anaconda3/lib/python3.8/site-packages (from aiohttp==3.7.4->allensdk) (20.3.0)\n",
      "Requirement already satisfied: yarl<2.0,>=1.0 in ./.local/lib/python3.8/site-packages (from aiohttp==3.7.4->allensdk) (1.6.3)\n",
      "Requirement already satisfied: chardet<4.0,>=2.0 in ./.local/lib/python3.8/site-packages (from aiohttp==3.7.4->allensdk) (3.0.4)\n",
      "Requirement already satisfied: async-timeout<4.0,>=3.0 in ./.local/lib/python3.8/site-packages (from aiohttp==3.7.4->allensdk) (3.0.1)\n",
      "Requirement already satisfied: typing-extensions>=3.6.5 in ./opt/anaconda3/lib/python3.8/site-packages (from aiohttp==3.7.4->allensdk) (3.7.4.3)\n",
      "Requirement already satisfied: multidict<7.0,>=4.5 in ./.local/lib/python3.8/site-packages (from aiohttp==3.7.4->allensdk) (5.1.0)\n",
      "Requirement already satisfied: s3transfer<0.4.0,>=0.3.0 in ./.local/lib/python3.8/site-packages (from boto3==1.17.21->allensdk) (0.3.7)\n",
      "Requirement already satisfied: jmespath<1.0.0,>=0.7.1 in ./.local/lib/python3.8/site-packages (from boto3==1.17.21->allensdk) (0.10.0)\n",
      "Requirement already satisfied: botocore<1.21.0,>=1.20.21 in ./.local/lib/python3.8/site-packages (from boto3==1.17.21->allensdk) (1.20.112)\n",
      "Requirement already satisfied: setuptools in ./opt/anaconda3/lib/python3.8/site-packages (from glymur==0.8.19->allensdk) (52.0.0.post20210125)\n",
      "Requirement already satisfied: marshmallow<4.0,>=3.0.0 in ./.local/lib/python3.8/site-packages (from argschema<4.0.0,>=3.0.1->allensdk) (3.13.0)\n",
      "Requirement already satisfied: pyyaml in ./opt/anaconda3/lib/python3.8/site-packages (from argschema<4.0.0,>=3.0.1->allensdk) (5.4.1)\n",
      "Requirement already satisfied: python-dateutil<3.0.0,>=2.1 in ./opt/anaconda3/lib/python3.8/site-packages (from botocore<1.21.0,>=1.20.21->boto3==1.17.21->allensdk) (2.8.1)\n",
      "Requirement already satisfied: urllib3<1.27,>=1.25.4 in ./opt/anaconda3/lib/python3.8/site-packages (from botocore<1.21.0,>=1.20.21->boto3==1.17.21->allensdk) (1.26.4)\n",
      "Requirement already satisfied: jsonschema<4,>=2.6.0 in ./opt/anaconda3/lib/python3.8/site-packages (from hdmf<2.5.0->allensdk) (3.2.0)\n",
      "Requirement already satisfied: ruamel.yaml<1,>=0.15 in ./.local/lib/python3.8/site-packages (from hdmf<2.5.0->allensdk) (0.17.16)\n",
      "Requirement already satisfied: MarkupSafe>=0.23 in ./opt/anaconda3/lib/python3.8/site-packages (from jinja2<2.12.0,>=2.7.3->allensdk) (1.1.1)\n",
      "Requirement already satisfied: pyrsistent>=0.14.0 in ./opt/anaconda3/lib/python3.8/site-packages (from jsonschema<4,>=2.6.0->hdmf<2.5.0->allensdk) (0.17.3)\n",
      "Requirement already satisfied: kiwisolver>=1.0.1 in ./opt/anaconda3/lib/python3.8/site-packages (from matplotlib<3.4.3,>=1.4.3->allensdk) (1.3.1)\n",
      "Requirement already satisfied: cycler>=0.10 in ./opt/anaconda3/lib/python3.8/site-packages (from matplotlib<3.4.3,>=1.4.3->allensdk) (0.10.0)\n",
      "Requirement already satisfied: pillow>=6.2.0 in ./opt/anaconda3/lib/python3.8/site-packages (from matplotlib<3.4.3,>=1.4.3->allensdk) (8.2.0)\n",
      "Requirement already satisfied: pyparsing!=2.0.4,!=2.1.2,!=2.1.6,>=2.0.3 in ./opt/anaconda3/lib/python3.8/site-packages (from matplotlib<3.4.3,>=1.4.3->allensdk) (2.4.7)\n",
      "Requirement already satisfied: pytz>=2017.2 in ./opt/anaconda3/lib/python3.8/site-packages (from pandas<=0.25.3,>=0.25.1->allensdk) (2021.1)\n",
      "Requirement already satisfied: idna<3,>=2.5 in ./opt/anaconda3/lib/python3.8/site-packages (from requests<3.0.0->allensdk) (2.10)\n",
      "Requirement already satisfied: certifi>=2017.4.17 in ./opt/anaconda3/lib/python3.8/site-packages (from requests<3.0.0->allensdk) (2020.12.5)\n",
      "Requirement already satisfied: ruamel.yaml.clib>=0.1.2 in ./.local/lib/python3.8/site-packages (from ruamel.yaml<1,>=0.15->hdmf<2.5.0->allensdk) (0.2.6)\n",
      "Requirement already satisfied: distro in ./.local/lib/python3.8/site-packages (from scikit-build<1.0.0->allensdk) (1.6.0)\n",
      "Requirement already satisfied: packaging in ./opt/anaconda3/lib/python3.8/site-packages (from scikit-build<1.0.0->allensdk) (20.9)\n",
      "Requirement already satisfied: wheel>=0.29.0 in ./opt/anaconda3/lib/python3.8/site-packages (from scikit-build<1.0.0->allensdk) (0.36.2)\n",
      "Requirement already satisfied: PyWavelets>=0.4.0 in ./opt/anaconda3/lib/python3.8/site-packages (from scikit-image<0.17.0,>=0.14.0->allensdk) (1.1.1)\n",
      "Requirement already satisfied: imageio>=2.3.0 in ./opt/anaconda3/lib/python3.8/site-packages (from scikit-image<0.17.0,>=0.14.0->allensdk) (2.9.0)\n",
      "Requirement already satisfied: networkx>=2.0 in ./opt/anaconda3/lib/python3.8/site-packages (from scikit-image<0.17.0,>=0.14.0->allensdk) (2.5)\n",
      "Requirement already satisfied: decorator>=4.3.0 in ./opt/anaconda3/lib/python3.8/site-packages (from networkx>=2.0->scikit-image<0.17.0,>=0.14.0->allensdk) (5.0.6)\n"
     ]
    },
    {
     "name": "stdout",
     "output_type": "stream",
     "text": [
      "Requirement already satisfied: patsy>=0.5 in ./opt/anaconda3/lib/python3.8/site-packages (from statsmodels<=0.13.0->allensdk) (0.5.1)\n",
      "Requirement already satisfied: numexpr>=2.6.2 in ./opt/anaconda3/lib/python3.8/site-packages (from tables<4.0.0,>=3.6.0->allensdk) (2.7.3)\n",
      "Note: you may need to restart the kernel to use updated packages.\n"
     ]
    }
   ],
   "source": [
    "pip install allensdk"
   ]
  },
  {
   "cell_type": "markdown",
   "id": "73a005bb",
   "metadata": {},
   "source": [
    "### Starting Code:"
   ]
  },
  {
   "cell_type": "code",
   "execution_count": 2,
   "id": "f3e5c138",
   "metadata": {},
   "outputs": [],
   "source": [
    "import os\n",
    "import shutil\n",
    "import allensdk\n",
    "import pprint\n",
    "\n",
    "import numpy as np\n",
    "import pandas as pd\n",
    "\n",
    "\n",
    "import matplotlib.pyplot as plt\n",
    "%matplotlib inline\n",
    "\n",
    "\n",
    "# You may have to change the following code depending on whether you are working with EcephysProjectCache or BrainObservatoryCache. \n",
    "from allensdk.brain_observatory.ecephys.ecephys_project_cache import EcephysProjectCache\n"
   ]
  },
  {
   "cell_type": "code",
   "execution_count": 3,
   "id": "d971c6ca",
   "metadata": {},
   "outputs": [],
   "source": [
    "#data directory for extracellular ephysdata: /overflow/NSCI274/projects/ecephysdata/
    "#data directory for 2 photon Ca2+ data: /overflow/NSCI274/projects/ophysdata/
    "#edit the code below to switch the data from ecephys to ophys
    "data_directory = '/overflow/NSCI274/projects/ecephysdata/'\n",
    "manifest_path = os.path.join(data_directory, \"manifest.json\")"
   ]
  },
  {
   "cell_type": "markdown",
   "id": "7eed1173",
   "metadata": {},
   "source": [
    "## Resources:\n",
    "\n",
    "\n",
    "### Sample Allen Jupyter Notebooks to get started:\n",
    "https://allensdk.readthedocs.io/en/latest/visual_behavior_optical_physiology.html\n",
    "\n",
    "\n",
    "Insert text. "
   ]
  }
 ],
 "metadata": {
  "kernelspec": {
   "display_name": "Python 3",
   "language": "python",
   "name": "python3"
  },
  "language_info": {
   "codemirror_mode": {
    "name": "ipython",
    "version": 3
   },
   "file_extension": ".py",
   "mimetype": "text/x-python",
   "name": "python",
   "nbconvert_exporter": "python",
   "pygments_lexer": "ipython3",
   "version": "3.8.8"
  }
 },
 "nbformat": 4,
 "nbformat_minor": 5
}
