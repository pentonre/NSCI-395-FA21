{
 "cells": [
  {
   "cell_type": "markdown",
   "id": "570a6753",
   "metadata": {},
   "source": [
    "# Notebook #1\n",
    "\n",
    "\n",
    "### Name: Tulsi Patel\n",
    "\n",
    "\n",
    "### Date: 11.11.2021\n",
    "\n",
    "\n",
    "### PID: 730392259\n",
    "\n",
    "\n",
    "### Goal: Find average firing rate for Brain Observatory, Sst, Male, VISp, Static Gratings (SG) and Drifting Gratings (DG). \n",
    "\n",
    "*There are no Female SST VISl sessions. The Female SST VISp sessions have 0 low-contamination units. There are no Female WT/WT VISp and VISl sessions. (Disregard the Jupyter notebooks labeled \"Female WT\". They are not actually WT/WT. They are hybrids. "
   ]
  },
  {
   "cell_type": "markdown",
   "id": "1d3d2c02",
   "metadata": {},
   "source": [
    "## Protocol\n",
    "\n",
    "### Starting code. "
   ]
  },
  {
   "cell_type": "code",
   "execution_count": 1,
   "id": "c683c833",
   "metadata": {},
   "outputs": [],
   "source": [
    "import os\n",
    "\n",
    "import numpy as np\n",
    "import xarray as xr\n",
    "import pandas as pd\n",
    "import matplotlib.pyplot as plt\n",
    "from scipy.ndimage.filters import gaussian_filter\n",
    "\n",
    "from allensdk.brain_observatory.ecephys.ecephys_project_cache import EcephysProjectCache\n",
    "from allensdk.brain_observatory.ecephys.ecephys_session import (\n",
    "    EcephysSession\n",
    ")\n",
    "from allensdk.brain_observatory.ecephys.visualization import plot_mean_waveforms, plot_spike_counts, raster_plot\n",
    "from allensdk.brain_observatory.visualization import plot_running_speed\n",
    "\n",
    "# tell pandas to show all columns when we display a DataFrame\n",
    "pd.set_option(\"display.max_columns\", None)"
   ]
  },
  {
   "cell_type": "code",
   "execution_count": 2,
   "id": "f1e3dda8",
   "metadata": {},
   "outputs": [],
   "source": [
    "data_directory = '/Users/tulsipatel/local1/ecephys_cache_dir' \n",
    "# must be updated to a valid directory in your filesystem\n",
    "\n",
    "manifest_path = os.path.join(data_directory, \"manifest.json\")"
   ]
  },
  {
   "cell_type": "code",
   "execution_count": 3,
   "id": "94a1ce39",
   "metadata": {},
   "outputs": [],
   "source": [
    "cache = EcephysProjectCache.from_warehouse(manifest=manifest_path)"
   ]
  },
  {
   "cell_type": "code",
   "execution_count": 4,
   "id": "f82cc261",
   "metadata": {},
   "outputs": [],
   "source": [
    "units = cache.get_units()"
   ]
  },
  {
   "cell_type": "code",
   "execution_count": 5,
   "id": "efe81059",
   "metadata": {},
   "outputs": [
    {
     "name": "stdout",
     "output_type": "stream",
     "text": [
      "Total number of sessions: 58\n"
     ]
    },
    {
     "data": {
      "text/html": [
       "<div>\n",
       "<style scoped>\n",
       "    .dataframe tbody tr th:only-of-type {\n",
       "        vertical-align: middle;\n",
       "    }\n",
       "\n",
       "    .dataframe tbody tr th {\n",
       "        vertical-align: top;\n",
       "    }\n",
       "\n",
       "    .dataframe thead th {\n",
       "        text-align: right;\n",
       "    }\n",
       "</style>\n",
       "<table border=\"1\" class=\"dataframe\">\n",
       "  <thead>\n",
       "    <tr style=\"text-align: right;\">\n",
       "      <th></th>\n",
       "      <th>published_at</th>\n",
       "      <th>specimen_id</th>\n",
       "      <th>session_type</th>\n",
       "      <th>age_in_days</th>\n",
       "      <th>sex</th>\n",
       "      <th>full_genotype</th>\n",
       "      <th>unit_count</th>\n",
       "      <th>channel_count</th>\n",
       "      <th>probe_count</th>\n",
       "      <th>ecephys_structure_acronyms</th>\n",
       "    </tr>\n",
       "    <tr>\n",
       "      <th>id</th>\n",
       "      <th></th>\n",
       "      <th></th>\n",
       "      <th></th>\n",
       "      <th></th>\n",
       "      <th></th>\n",
       "      <th></th>\n",
       "      <th></th>\n",
       "      <th></th>\n",
       "      <th></th>\n",
       "      <th></th>\n",
       "    </tr>\n",
       "  </thead>\n",
       "  <tbody>\n",
       "    <tr>\n",
       "      <th>715093703</th>\n",
       "      <td>2019-10-03T00:00:00Z</td>\n",
       "      <td>699733581</td>\n",
       "      <td>brain_observatory_1.1</td>\n",
       "      <td>118.0</td>\n",
       "      <td>M</td>\n",
       "      <td>Sst-IRES-Cre/wt;Ai32(RCL-ChR2(H134R)_EYFP)/wt</td>\n",
       "      <td>884</td>\n",
       "      <td>2219</td>\n",
       "      <td>6</td>\n",
       "      <td>[CA1, VISrl, nan, PO, LP, LGd, CA3, DG, VISl, ...</td>\n",
       "    </tr>\n",
       "    <tr>\n",
       "      <th>719161530</th>\n",
       "      <td>2019-10-03T00:00:00Z</td>\n",
       "      <td>703279284</td>\n",
       "      <td>brain_observatory_1.1</td>\n",
       "      <td>122.0</td>\n",
       "      <td>M</td>\n",
       "      <td>Sst-IRES-Cre/wt;Ai32(RCL-ChR2(H134R)_EYFP)/wt</td>\n",
       "      <td>755</td>\n",
       "      <td>2214</td>\n",
       "      <td>6</td>\n",
       "      <td>[TH, Eth, APN, POL, LP, DG, CA1, VISpm, nan, N...</td>\n",
       "    </tr>\n",
       "    <tr>\n",
       "      <th>721123822</th>\n",
       "      <td>2019-10-03T00:00:00Z</td>\n",
       "      <td>707296982</td>\n",
       "      <td>brain_observatory_1.1</td>\n",
       "      <td>125.0</td>\n",
       "      <td>M</td>\n",
       "      <td>Pvalb-IRES-Cre/wt;Ai32(RCL-ChR2(H134R)_EYFP)/wt</td>\n",
       "      <td>444</td>\n",
       "      <td>2229</td>\n",
       "      <td>6</td>\n",
       "      <td>[MB, SCig, PPT, NOT, DG, CA1, VISam, nan, LP, ...</td>\n",
       "    </tr>\n",
       "    <tr>\n",
       "      <th>732592105</th>\n",
       "      <td>2019-10-03T00:00:00Z</td>\n",
       "      <td>717038288</td>\n",
       "      <td>brain_observatory_1.1</td>\n",
       "      <td>100.0</td>\n",
       "      <td>M</td>\n",
       "      <td>wt/wt</td>\n",
       "      <td>824</td>\n",
       "      <td>1847</td>\n",
       "      <td>5</td>\n",
       "      <td>[grey, VISpm, nan, VISp, VISl, VISal, VISrl]</td>\n",
       "    </tr>\n",
       "    <tr>\n",
       "      <th>737581020</th>\n",
       "      <td>2019-10-03T00:00:00Z</td>\n",
       "      <td>718643567</td>\n",
       "      <td>brain_observatory_1.1</td>\n",
       "      <td>108.0</td>\n",
       "      <td>M</td>\n",
       "      <td>wt/wt</td>\n",
       "      <td>568</td>\n",
       "      <td>2218</td>\n",
       "      <td>6</td>\n",
       "      <td>[grey, VISmma, nan, VISpm, VISp, VISl, VISrl]</td>\n",
       "    </tr>\n",
       "  </tbody>\n",
       "</table>\n",
       "</div>"
      ],
      "text/plain": [
       "                   published_at  specimen_id           session_type  \\\n",
       "id                                                                    \n",
       "715093703  2019-10-03T00:00:00Z    699733581  brain_observatory_1.1   \n",
       "719161530  2019-10-03T00:00:00Z    703279284  brain_observatory_1.1   \n",
       "721123822  2019-10-03T00:00:00Z    707296982  brain_observatory_1.1   \n",
       "732592105  2019-10-03T00:00:00Z    717038288  brain_observatory_1.1   \n",
       "737581020  2019-10-03T00:00:00Z    718643567  brain_observatory_1.1   \n",
       "\n",
       "           age_in_days sex                                    full_genotype  \\\n",
       "id                                                                            \n",
       "715093703        118.0   M    Sst-IRES-Cre/wt;Ai32(RCL-ChR2(H134R)_EYFP)/wt   \n",
       "719161530        122.0   M    Sst-IRES-Cre/wt;Ai32(RCL-ChR2(H134R)_EYFP)/wt   \n",
       "721123822        125.0   M  Pvalb-IRES-Cre/wt;Ai32(RCL-ChR2(H134R)_EYFP)/wt   \n",
       "732592105        100.0   M                                            wt/wt   \n",
       "737581020        108.0   M                                            wt/wt   \n",
       "\n",
       "           unit_count  channel_count  probe_count  \\\n",
       "id                                                  \n",
       "715093703         884           2219            6   \n",
       "719161530         755           2214            6   \n",
       "721123822         444           2229            6   \n",
       "732592105         824           1847            5   \n",
       "737581020         568           2218            6   \n",
       "\n",
       "                                  ecephys_structure_acronyms  \n",
       "id                                                            \n",
       "715093703  [CA1, VISrl, nan, PO, LP, LGd, CA3, DG, VISl, ...  \n",
       "719161530  [TH, Eth, APN, POL, LP, DG, CA1, VISpm, nan, N...  \n",
       "721123822  [MB, SCig, PPT, NOT, DG, CA1, VISam, nan, LP, ...  \n",
       "732592105       [grey, VISpm, nan, VISp, VISl, VISal, VISrl]  \n",
       "737581020      [grey, VISmma, nan, VISpm, VISp, VISl, VISrl]  "
      ]
     },
     "execution_count": 5,
     "metadata": {},
     "output_type": "execute_result"
    }
   ],
   "source": [
    "sessions = cache.get_session_table()\n",
    "\n",
    "\n",
    "print('Total number of sessions: ' + str(len(sessions)))\n",
    "\n",
    "sessions.head()"
   ]
  },
  {
   "cell_type": "code",
   "execution_count": 6,
   "id": "63e1a445",
   "metadata": {},
   "outputs": [
    {
     "data": {
      "text/html": [
       "<div>\n",
       "<style scoped>\n",
       "    .dataframe tbody tr th:only-of-type {\n",
       "        vertical-align: middle;\n",
       "    }\n",
       "\n",
       "    .dataframe tbody tr th {\n",
       "        vertical-align: top;\n",
       "    }\n",
       "\n",
       "    .dataframe thead th {\n",
       "        text-align: right;\n",
       "    }\n",
       "</style>\n",
       "<table border=\"1\" class=\"dataframe\">\n",
       "  <thead>\n",
       "    <tr style=\"text-align: right;\">\n",
       "      <th></th>\n",
       "      <th>published_at</th>\n",
       "      <th>specimen_id</th>\n",
       "      <th>session_type</th>\n",
       "      <th>age_in_days</th>\n",
       "      <th>sex</th>\n",
       "      <th>full_genotype</th>\n",
       "      <th>unit_count</th>\n",
       "      <th>channel_count</th>\n",
       "      <th>probe_count</th>\n",
       "      <th>ecephys_structure_acronyms</th>\n",
       "    </tr>\n",
       "    <tr>\n",
       "      <th>id</th>\n",
       "      <th></th>\n",
       "      <th></th>\n",
       "      <th></th>\n",
       "      <th></th>\n",
       "      <th></th>\n",
       "      <th></th>\n",
       "      <th></th>\n",
       "      <th></th>\n",
       "      <th></th>\n",
       "      <th></th>\n",
       "    </tr>\n",
       "  </thead>\n",
       "  <tbody>\n",
       "    <tr>\n",
       "      <th>715093703</th>\n",
       "      <td>2019-10-03T00:00:00Z</td>\n",
       "      <td>699733581</td>\n",
       "      <td>brain_observatory_1.1</td>\n",
       "      <td>118.0</td>\n",
       "      <td>M</td>\n",
       "      <td>Sst-IRES-Cre/wt;Ai32(RCL-ChR2(H134R)_EYFP)/wt</td>\n",
       "      <td>884</td>\n",
       "      <td>2219</td>\n",
       "      <td>6</td>\n",
       "      <td>[CA1, VISrl, nan, PO, LP, LGd, CA3, DG, VISl, ...</td>\n",
       "    </tr>\n",
       "    <tr>\n",
       "      <th>719161530</th>\n",
       "      <td>2019-10-03T00:00:00Z</td>\n",
       "      <td>703279284</td>\n",
       "      <td>brain_observatory_1.1</td>\n",
       "      <td>122.0</td>\n",
       "      <td>M</td>\n",
       "      <td>Sst-IRES-Cre/wt;Ai32(RCL-ChR2(H134R)_EYFP)/wt</td>\n",
       "      <td>755</td>\n",
       "      <td>2214</td>\n",
       "      <td>6</td>\n",
       "      <td>[TH, Eth, APN, POL, LP, DG, CA1, VISpm, nan, N...</td>\n",
       "    </tr>\n",
       "    <tr>\n",
       "      <th>756029989</th>\n",
       "      <td>2019-10-03T00:00:00Z</td>\n",
       "      <td>734865738</td>\n",
       "      <td>brain_observatory_1.1</td>\n",
       "      <td>96.0</td>\n",
       "      <td>M</td>\n",
       "      <td>Sst-IRES-Cre/wt;Ai32(RCL-ChR2(H134R)_EYFP)/wt</td>\n",
       "      <td>684</td>\n",
       "      <td>2214</td>\n",
       "      <td>6</td>\n",
       "      <td>[TH, DG, CA3, CA1, VISl, nan, PO, Eth, LP, VIS...</td>\n",
       "    </tr>\n",
       "    <tr>\n",
       "      <th>758798717</th>\n",
       "      <td>2019-10-03T00:00:00Z</td>\n",
       "      <td>735109609</td>\n",
       "      <td>brain_observatory_1.1</td>\n",
       "      <td>102.0</td>\n",
       "      <td>M</td>\n",
       "      <td>Sst-IRES-Cre/wt;Ai32(RCL-ChR2(H134R)_EYFP)/wt</td>\n",
       "      <td>593</td>\n",
       "      <td>1486</td>\n",
       "      <td>4</td>\n",
       "      <td>[MGv, MGd, TH, DG, CA1, VISal, nan, SGN, LP, S...</td>\n",
       "    </tr>\n",
       "    <tr>\n",
       "      <th>762602078</th>\n",
       "      <td>2019-10-03T00:00:00Z</td>\n",
       "      <td>744915204</td>\n",
       "      <td>brain_observatory_1.1</td>\n",
       "      <td>110.0</td>\n",
       "      <td>M</td>\n",
       "      <td>Sst-IRES-Cre/wt;Ai32(RCL-ChR2(H134R)_EYFP)/wt</td>\n",
       "      <td>531</td>\n",
       "      <td>2233</td>\n",
       "      <td>6</td>\n",
       "      <td>[MB, APN, NOT, DG, CA1, VISam, nan, VISrl, LGv...</td>\n",
       "    </tr>\n",
       "  </tbody>\n",
       "</table>\n",
       "</div>"
      ],
      "text/plain": [
       "                   published_at  specimen_id           session_type  \\\n",
       "id                                                                    \n",
       "715093703  2019-10-03T00:00:00Z    699733581  brain_observatory_1.1   \n",
       "719161530  2019-10-03T00:00:00Z    703279284  brain_observatory_1.1   \n",
       "756029989  2019-10-03T00:00:00Z    734865738  brain_observatory_1.1   \n",
       "758798717  2019-10-03T00:00:00Z    735109609  brain_observatory_1.1   \n",
       "762602078  2019-10-03T00:00:00Z    744915204  brain_observatory_1.1   \n",
       "\n",
       "           age_in_days sex                                  full_genotype  \\\n",
       "id                                                                          \n",
       "715093703        118.0   M  Sst-IRES-Cre/wt;Ai32(RCL-ChR2(H134R)_EYFP)/wt   \n",
       "719161530        122.0   M  Sst-IRES-Cre/wt;Ai32(RCL-ChR2(H134R)_EYFP)/wt   \n",
       "756029989         96.0   M  Sst-IRES-Cre/wt;Ai32(RCL-ChR2(H134R)_EYFP)/wt   \n",
       "758798717        102.0   M  Sst-IRES-Cre/wt;Ai32(RCL-ChR2(H134R)_EYFP)/wt   \n",
       "762602078        110.0   M  Sst-IRES-Cre/wt;Ai32(RCL-ChR2(H134R)_EYFP)/wt   \n",
       "\n",
       "           unit_count  channel_count  probe_count  \\\n",
       "id                                                  \n",
       "715093703         884           2219            6   \n",
       "719161530         755           2214            6   \n",
       "756029989         684           2214            6   \n",
       "758798717         593           1486            4   \n",
       "762602078         531           2233            6   \n",
       "\n",
       "                                  ecephys_structure_acronyms  \n",
       "id                                                            \n",
       "715093703  [CA1, VISrl, nan, PO, LP, LGd, CA3, DG, VISl, ...  \n",
       "719161530  [TH, Eth, APN, POL, LP, DG, CA1, VISpm, nan, N...  \n",
       "756029989  [TH, DG, CA3, CA1, VISl, nan, PO, Eth, LP, VIS...  \n",
       "758798717  [MGv, MGd, TH, DG, CA1, VISal, nan, SGN, LP, S...  \n",
       "762602078  [MB, APN, NOT, DG, CA1, VISam, nan, VISrl, LGv...  "
      ]
     },
     "execution_count": 6,
     "metadata": {},
     "output_type": "execute_result"
    }
   ],
   "source": [
    "filtered_sessions = sessions[(sessions.sex == 'M') & \\\n",
    "                             (sessions.full_genotype.str.find('Sst') > -1) & \\\n",
    "                             (sessions.session_type == 'brain_observatory_1.1') & \\\n",
    "                             (['VISp' in acronyms for acronyms in \n",
    "                               sessions.ecephys_structure_acronyms])]\n",
    "\n",
    "filtered_sessions.head()"
   ]
  },
  {
   "cell_type": "code",
   "execution_count": null,
   "id": "d3b502cc",
   "metadata": {},
   "outputs": [
    {
     "name": "stderr",
     "output_type": "stream",
     "text": [
      "WARNING:root:downloading a 2096.734MiB file from http://api.brain-map.org//api/v2/well_known_file_download/1026123877\n"
     ]
    },
    {
     "data": {
      "application/vnd.jupyter.widget-view+json": {
       "model_id": "6c713090625c4173bf2b8452d26ccaf5",
       "version_major": 2,
       "version_minor": 0
      },
      "text/plain": [
       "Downloading:   0%|          | 0.00/2.20G [00:00<?, ?B/s]"
      ]
     },
     "metadata": {},
     "output_type": "display_data"
    }
   ],
   "source": [
    "session_id = filtered_sessions.index.values[3]\n",
    "\n",
    "session = cache.get_session_data(session_id)"
   ]
  },
  {
   "cell_type": "code",
   "execution_count": null,
   "id": "fa96269a",
   "metadata": {},
   "outputs": [],
   "source": [
    "units = session.units\n",
    "\n",
    "print('Total number of units: ' + str(len(units)))\n",
    "\n",
    "units.head()"
   ]
  },
  {
   "cell_type": "code",
   "execution_count": null,
   "id": "28624827",
   "metadata": {},
   "outputs": [],
   "source": [
    "V1_units = units[(units.ecephys_structure_acronym == 'VISp') &\n",
    "                (units.isi_violations < 0.1)]\n",
    "\n",
    "print('Total number of low-contamination V1 units: ' + str(len(V1_units)))\n",
    "\n",
    "\n",
    "V1_units.head()"
   ]
  },
  {
   "cell_type": "markdown",
   "id": "df7c1e49",
   "metadata": {},
   "source": [
    "## Find average firing rate for static gratings. "
   ]
  },
  {
   "cell_type": "code",
   "execution_count": null,
   "id": "6ef6855f",
   "metadata": {},
   "outputs": [],
   "source": [
    "print(V1_units.firing_rate_sg)"
   ]
  },
  {
   "cell_type": "code",
   "execution_count": null,
   "id": "667e9dd2",
   "metadata": {},
   "outputs": [],
   "source": [
    "static_firing_rates=V1_units.firing_rate_sg \n",
    "static_average_firing_rate = sum(V1_units.firing_rate_sg)/len(V1_units.firing_rate_sg)\n",
    "print(static_average_firing_rate)"
   ]
  },
  {
   "cell_type": "markdown",
   "id": "17f28d48",
   "metadata": {},
   "source": [
    "## Find average firing rate for drifting gratings. "
   ]
  },
  {
   "cell_type": "code",
   "execution_count": null,
   "id": "7e39fb90",
   "metadata": {},
   "outputs": [],
   "source": [
    "print(V1_units.firing_rate_dg)"
   ]
  },
  {
   "cell_type": "code",
   "execution_count": null,
   "id": "b13ac2f4",
   "metadata": {},
   "outputs": [],
   "source": [
    "drifting_firing_rates=V1_units.firing_rate_dg \n",
    "drifting_average_firing_rate = sum(V1_units.firing_rate_dg)/len(V1_units.firing_rate_dg)\n",
    "print(drifting_average_firing_rate)"
   ]
  },
  {
   "cell_type": "markdown",
   "id": "951828cc",
   "metadata": {},
   "source": [
    "## Remaining code: I was experimenting with another way to find the average firing rate. "
   ]
  },
  {
   "cell_type": "code",
   "execution_count": null,
   "id": "9826739e",
   "metadata": {},
   "outputs": [],
   "source": [
    "presentation_table = session.stimulus_presentations[session.stimulus_presentations.stimulus_name == 'natural_scenes']\n",
    "\n",
    "\n",
    "presentation_times = presentation_table.start_time.values\n",
    "presentation_ids = presentation_table.index.values\n",
    "presentation_table.head()"
   ]
  },
  {
   "cell_type": "code",
   "execution_count": null,
   "id": "b02a74f0",
   "metadata": {},
   "outputs": [],
   "source": [
    "units_of_interest = V1_units.index.values"
   ]
  },
  {
   "cell_type": "code",
   "execution_count": null,
   "id": "c8edd33e",
   "metadata": {},
   "outputs": [],
   "source": [
    "times = session.presentationwise_spike_times(\n",
    "    stimulus_presentation_ids=presentation_ids,\n",
    "    unit_ids=units_of_interest\n",
    ")\n",
    "\n",
    "times.head()"
   ]
  },
  {
   "cell_type": "code",
   "execution_count": null,
   "id": "8ad3c426",
   "metadata": {},
   "outputs": [],
   "source": [
    "average_firing_rate = '.0023476'"
   ]
  },
  {
   "cell_type": "code",
   "execution_count": null,
   "id": "8ecda6e4",
   "metadata": {},
   "outputs": [],
   "source": [
    "length_of_time=times.time_since_stimulus_presentation_onset"
   ]
  },
  {
   "cell_type": "code",
   "execution_count": null,
   "id": "cd60ccc4",
   "metadata": {},
   "outputs": [],
   "source": [
    "print(length_of_time.index.values[4])"
   ]
  },
  {
   "cell_type": "code",
   "execution_count": null,
   "id": "14f02893",
   "metadata": {},
   "outputs": [],
   "source": []
  }
 ],
 "metadata": {
  "kernelspec": {
   "display_name": "Python 3",
   "language": "python",
   "name": "python3"
  },
  "language_info": {
   "codemirror_mode": {
    "name": "ipython",
    "version": 3
   },
   "file_extension": ".py",
   "mimetype": "text/x-python",
   "name": "python",
   "nbconvert_exporter": "python",
   "pygments_lexer": "ipython3",
   "version": "3.8.8"
  }
 },
 "nbformat": 4,
 "nbformat_minor": 5
}
