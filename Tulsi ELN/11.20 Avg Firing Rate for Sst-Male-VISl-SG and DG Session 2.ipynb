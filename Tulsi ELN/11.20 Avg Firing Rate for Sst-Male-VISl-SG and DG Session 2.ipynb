{
 "cells": [
  {
   "cell_type": "markdown",
   "id": "570a6753",
   "metadata": {},
   "source": [
    "# Notebook #1\n",
    "\n",
    "\n",
    "### Name: Tulsi Patel\n",
    "\n",
    "\n",
    "### Date: 11.11.2021\n",
    "\n",
    "\n",
    "### PID: 730392259\n",
    "\n",
    "\n",
    "### Goal: Find average firing rate for Brain Observatory, Sst, Male, VISp, Static Gratings (SG) and Drifting Gratings (DG). \n",
    "\n",
    "*There are no Female SST VISl sessions. The Female SST VISp sessions have 0 low-contamination units. There are no Female WT/WT VISp and VISl sessions. (Disregard the Jupyter notebooks labeled \"Female WT\". They are not actually WT/WT. They are hybrids. "
   ]
  },
  {
   "cell_type": "markdown",
   "id": "1d3d2c02",
   "metadata": {},
   "source": [
    "## Protocol\n",
    "\n",
    "### Starting code. "
   ]
  },
  {
   "cell_type": "code",
   "execution_count": null,
   "id": "c683c833",
   "metadata": {},
   "outputs": [],
   "source": [
    "import os\n",
    "\n",
    "import numpy as np\n",
    "import xarray as xr\n",
    "import pandas as pd\n",
    "import matplotlib.pyplot as plt\n",
    "from scipy.ndimage.filters import gaussian_filter\n",
    "\n",
    "from allensdk.brain_observatory.ecephys.ecephys_project_cache import EcephysProjectCache\n",
    "from allensdk.brain_observatory.ecephys.ecephys_session import (\n",
    "    EcephysSession\n",
    ")\n",
    "from allensdk.brain_observatory.ecephys.visualization import plot_mean_waveforms, plot_spike_counts, raster_plot\n",
    "from allensdk.brain_observatory.visualization import plot_running_speed\n",
    "\n",
    "# tell pandas to show all columns when we display a DataFrame\n",
    "pd.set_option(\"display.max_columns\", None)"
   ]
  },
  {
   "cell_type": "code",
   "execution_count": null,
   "id": "f1e3dda8",
   "metadata": {},
   "outputs": [],
   "source": [
    "data_directory = '/Users/tulsipatel/local1/ecephys_cache_dir' \n",
    "# must be updated to a valid directory in your filesystem\n",
    "\n",
    "manifest_path = os.path.join(data_directory, \"manifest.json\")"
   ]
  },
  {
   "cell_type": "code",
   "execution_count": null,
   "id": "94a1ce39",
   "metadata": {},
   "outputs": [],
   "source": [
    "cache = EcephysProjectCache.from_warehouse(manifest=manifest_path)"
   ]
  },
  {
   "cell_type": "code",
   "execution_count": null,
   "id": "f82cc261",
   "metadata": {},
   "outputs": [],
   "source": [
    "units = cache.get_units()"
   ]
  },
  {
   "cell_type": "code",
   "execution_count": null,
   "id": "efe81059",
   "metadata": {},
   "outputs": [],
   "source": [
    "sessions = cache.get_session_table()\n",
    "\n",
    "\n",
    "print('Total number of sessions: ' + str(len(sessions)))\n",
    "\n",
    "sessions.head()"
   ]
  },
  {
   "cell_type": "code",
   "execution_count": null,
   "id": "63e1a445",
   "metadata": {},
   "outputs": [],
   "source": [
    "filtered_sessions = sessions[(sessions.sex == 'M') & \\\n",
    "                             (sessions.full_genotype.str.find('Sst') > -1) & \\\n",
    "                             (sessions.session_type == 'brain_observatory_1.1') & \\\n",
    "                             (['VISl' in acronyms for acronyms in \n",
    "                               sessions.ecephys_structure_acronyms])]\n",
    "\n",
    "filtered_sessions.head()"
   ]
  },
  {
   "cell_type": "code",
   "execution_count": null,
   "id": "d3b502cc",
   "metadata": {},
   "outputs": [],
   "source": [
    "session_id = filtered_sessions.index.values[0]\n",
    "\n",
    "session = cache.get_session_data(session_id)"
   ]
  },
  {
   "cell_type": "code",
   "execution_count": null,
   "id": "fa96269a",
   "metadata": {},
   "outputs": [],
   "source": [
    "units = session.units\n",
    "\n",
    "print('Total number of units: ' + str(len(units)))\n",
    "\n",
    "units.head()"
   ]
  },
  {
   "cell_type": "code",
   "execution_count": null,
   "id": "28624827",
   "metadata": {},
   "outputs": [],
   "source": [
    "V1_units = units[(units.ecephys_structure_acronym == 'VISl') &\n",
    "                (units.isi_violations < 0.1)]\n",
    "\n",
    "print('Total number of low-contamination V1 units: ' + str(len(V1_units)))\n",
    "\n",
    "\n",
    "V1_units.head()"
   ]
  },
  {
   "cell_type": "markdown",
   "id": "df7c1e49",
   "metadata": {},
   "source": [
    "## Find average firing rate for static gratings. "
   ]
  },
  {
   "cell_type": "code",
   "execution_count": null,
   "id": "6ef6855f",
   "metadata": {},
   "outputs": [],
   "source": [
    "print(V1_units.firing_rate_sg)"
   ]
  },
  {
   "cell_type": "code",
   "execution_count": null,
   "id": "667e9dd2",
   "metadata": {},
   "outputs": [],
   "source": [
    "static_firing_rates=V1_units.firing_rate_sg \n",
    "static_average_firing_rate = sum(V1_units.firing_rate_sg)/len(V1_units.firing_rate_sg)\n",
    "print(static_average_firing_rate)"
   ]
  },
  {
   "cell_type": "markdown",
   "id": "17f28d48",
   "metadata": {},
   "source": [
    "## Find average firing rate for drifting gratings. "
   ]
  },
  {
   "cell_type": "code",
   "execution_count": null,
   "id": "7e39fb90",
   "metadata": {},
   "outputs": [],
   "source": [
    "print(V1_units.firing_rate_dg)"
   ]
  },
  {
   "cell_type": "code",
   "execution_count": null,
   "id": "b13ac2f4",
   "metadata": {},
   "outputs": [],
   "source": [
    "drifting_firing_rates=V1_units.firing_rate_dg \n",
    "drifting_average_firing_rate = sum(V1_units.firing_rate_dg)/len(V1_units.firing_rate_dg)\n",
    "print(drifting_average_firing_rate)"
   ]
  },
  {
   "cell_type": "markdown",
   "id": "951828cc",
   "metadata": {},
   "source": [
    "## Remaining code: I was experimenting with another way to find the average firing rate. "
   ]
  },
  {
   "cell_type": "code",
   "execution_count": null,
   "id": "9826739e",
   "metadata": {},
   "outputs": [],
   "source": [
    "presentation_table = session.stimulus_presentations[session.stimulus_presentations.stimulus_name == 'natural_scenes']\n",
    "\n",
    "\n",
    "presentation_times = presentation_table.start_time.values\n",
    "presentation_ids = presentation_table.index.values\n",
    "presentation_table.head()"
   ]
  },
  {
   "cell_type": "code",
   "execution_count": null,
   "id": "b02a74f0",
   "metadata": {},
   "outputs": [],
   "source": [
    "units_of_interest = V1_units.index.values"
   ]
  },
  {
   "cell_type": "code",
   "execution_count": null,
   "id": "c8edd33e",
   "metadata": {},
   "outputs": [],
   "source": [
    "times = session.presentationwise_spike_times(\n",
    "    stimulus_presentation_ids=presentation_ids,\n",
    "    unit_ids=units_of_interest\n",
    ")\n",
    "\n",
    "times.head()"
   ]
  },
  {
   "cell_type": "code",
   "execution_count": null,
   "id": "8ad3c426",
   "metadata": {},
   "outputs": [],
   "source": [
    "average_firing_rate = '.0023476'"
   ]
  },
  {
   "cell_type": "code",
   "execution_count": null,
   "id": "8ecda6e4",
   "metadata": {},
   "outputs": [],
   "source": [
    "length_of_time=times.time_since_stimulus_presentation_onset"
   ]
  },
  {
   "cell_type": "code",
   "execution_count": null,
   "id": "cd60ccc4",
   "metadata": {},
   "outputs": [],
   "source": [
    "print(length_of_time.index.values[4])"
   ]
  },
  {
   "cell_type": "code",
   "execution_count": null,
   "id": "14f02893",
   "metadata": {},
   "outputs": [],
   "source": []
  }
 ],
 "metadata": {
  "kernelspec": {
   "display_name": "Python 3",
   "language": "python",
   "name": "python3"
  },
  "language_info": {
   "codemirror_mode": {
    "name": "ipython",
    "version": 3
   },
   "file_extension": ".py",
   "mimetype": "text/x-python",
   "name": "python",
   "nbconvert_exporter": "python",
   "pygments_lexer": "ipython3",
   "version": "3.8.8"
  }
 },
 "nbformat": 4,
 "nbformat_minor": 5
}
